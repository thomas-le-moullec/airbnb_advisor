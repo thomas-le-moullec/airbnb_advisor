{
 "cells": [
  {
   "cell_type": "markdown",
   "metadata": {},
   "source": [
    "# AIRBNB Advisor - Data Preprocessing & Statistics\n"
   ]
  },
  {
   "cell_type": "markdown",
   "metadata": {},
   "source": [
    "### About\n",
    "CSV files from <a href=\"http://insideairbnb.com/get-the-data.html\">insideairbnb.com</a> have to be preprocessed as they are frequently updated with new reservation informations.\n",
    "<br/>\n",
    "The following is an example of this process using Amsterdam data"
   ]
  },
  {
   "cell_type": "markdown",
   "metadata": {},
   "source": [
    "### Dataset ~ listings.csv and calendar.csv\n",
    "\n",
    "This dataset consists of sales prices of houses in Ames, Iowa.\n",
    "\n",
    "The training dataset has 1460 instances with unique Ids, sales prices, and 79 more features."
   ]
  },
  {
   "cell_type": "markdown",
   "metadata": {},
   "source": [
    "## Step 1: Concatening the calendar.csv files\n",
    "\n",
    "The data that we use is updated ~every month. It means that some of the properties that were not rented may now be rented. Due to that fact, we have to update our dataset (here superCsv) with the new data. Here is the function that does that with an example"
   ]
  },
  {
   "cell_type": "code",
   "execution_count": 99,
   "metadata": {},
   "outputs": [
    {
     "name": "stdout",
     "output_type": "stream",
     "text": [
      "Before Cutting SuperCsv goes to : 2019-04-07\n",
      "CsvToAdd starts at : 2018-05-10\n",
      "After Cutting SuperCsv goes to : 2018-05-09\n",
      "After Concatenation SuperCsv goes to : 2019-05-10\n"
     ]
    },
    {
     "data": {
      "text/html": [
       "<div>\n",
       "<style scoped>\n",
       "    .dataframe tbody tr th:only-of-type {\n",
       "        vertical-align: middle;\n",
       "    }\n",
       "\n",
       "    .dataframe tbody tr th {\n",
       "        vertical-align: top;\n",
       "    }\n",
       "\n",
       "    .dataframe thead th {\n",
       "        text-align: right;\n",
       "    }\n",
       "</style>\n",
       "<table border=\"1\" class=\"dataframe\">\n",
       "  <thead>\n",
       "    <tr style=\"text-align: right;\">\n",
       "      <th></th>\n",
       "      <th>listing_id</th>\n",
       "      <th>date</th>\n",
       "      <th>available</th>\n",
       "      <th>price</th>\n",
       "    </tr>\n",
       "  </thead>\n",
       "  <tbody>\n",
       "    <tr>\n",
       "      <th>6843745</th>\n",
       "      <td>21091463</td>\n",
       "      <td>2018-05-14</td>\n",
       "      <td>t</td>\n",
       "      <td>$100.00</td>\n",
       "    </tr>\n",
       "    <tr>\n",
       "      <th>6843746</th>\n",
       "      <td>21091463</td>\n",
       "      <td>2018-05-13</td>\n",
       "      <td>t</td>\n",
       "      <td>$100.00</td>\n",
       "    </tr>\n",
       "    <tr>\n",
       "      <th>6843747</th>\n",
       "      <td>21091463</td>\n",
       "      <td>2018-05-12</td>\n",
       "      <td>f</td>\n",
       "      <td>NaN</td>\n",
       "    </tr>\n",
       "    <tr>\n",
       "      <th>6843748</th>\n",
       "      <td>21091463</td>\n",
       "      <td>2018-05-11</td>\n",
       "      <td>f</td>\n",
       "      <td>NaN</td>\n",
       "    </tr>\n",
       "    <tr>\n",
       "      <th>6843749</th>\n",
       "      <td>21091463</td>\n",
       "      <td>2018-05-10</td>\n",
       "      <td>f</td>\n",
       "      <td>NaN</td>\n",
       "    </tr>\n",
       "  </tbody>\n",
       "</table>\n",
       "</div>"
      ],
      "text/plain": [
       "         listing_id        date available    price\n",
       "6843745    21091463  2018-05-14         t  $100.00\n",
       "6843746    21091463  2018-05-13         t  $100.00\n",
       "6843747    21091463  2018-05-12         f      NaN\n",
       "6843748    21091463  2018-05-11         f      NaN\n",
       "6843749    21091463  2018-05-10         f      NaN"
      ]
     },
     "execution_count": 99,
     "metadata": {},
     "output_type": "execute_result"
    }
   ],
   "source": [
    "import pandas as pd\n",
    "import seaborn as sns\n",
    "\n",
    "pd.set_option('display.max_columns', 50)\n",
    "\n",
    "def addToSuperCsv(superCsv, csvToAdd):\n",
    "    print('Before Cutting SuperCsv goes to : ' + max(superCsv['date']))\n",
    "    keepUpTo = min(csvToAdd['date'])\n",
    "    print('CsvToAdd starts at : ' + keepUpTo)\n",
    "    superCsv = superCsv[superCsv['date'] < keepUpTo]\n",
    "    print('After Cutting SuperCsv goes to : ' + max(superCsv['date']))\n",
    "    superCsv = pd.concat([superCsv, csvToAdd])\n",
    "    print('After Concatenation SuperCsv goes to : ' + max(superCsv['date']))\n",
    "    return superCsv\n",
    "\n",
    "superCsv = pd.read_csv('07_04_calendar.csv') # Need to download the Super Calendar from S3\n",
    "csvToAdd = pd.read_csv('10_05_calendar.csv')\n",
    "superCsv = addToSuperCsv(superCsv, csvToAdd)\n",
    "superCsv.tail(5)"
   ]
  },
  {
   "cell_type": "markdown",
   "metadata": {},
   "source": [
    "## Step 2: The listings.csv file\n",
    "\n",
    "The listings.csv files needs to be preprocessed as it contains useless & malformated data."
   ]
  },
  {
   "cell_type": "markdown",
   "metadata": {},
   "source": [
    "### Step 2.1\n",
    "Below is the selection of the useful data :"
   ]
  },
  {
   "cell_type": "code",
   "execution_count": 117,
   "metadata": {},
   "outputs": [
    {
     "data": {
      "text/html": [
       "<div>\n",
       "<style scoped>\n",
       "    .dataframe tbody tr th:only-of-type {\n",
       "        vertical-align: middle;\n",
       "    }\n",
       "\n",
       "    .dataframe tbody tr th {\n",
       "        vertical-align: top;\n",
       "    }\n",
       "\n",
       "    .dataframe thead th {\n",
       "        text-align: right;\n",
       "    }\n",
       "</style>\n",
       "<table border=\"1\" class=\"dataframe\">\n",
       "  <thead>\n",
       "    <tr style=\"text-align: right;\">\n",
       "      <th></th>\n",
       "      <th>id</th>\n",
       "      <th>host_name</th>\n",
       "      <th>host_since</th>\n",
       "      <th>host_is_superhost</th>\n",
       "      <th>host_total_listings_count</th>\n",
       "      <th>host_has_profile_pic</th>\n",
       "      <th>host_identity_verified</th>\n",
       "      <th>latitude</th>\n",
       "      <th>longitude</th>\n",
       "      <th>property_type</th>\n",
       "      <th>room_type</th>\n",
       "      <th>bathrooms</th>\n",
       "      <th>bedrooms</th>\n",
       "      <th>beds</th>\n",
       "      <th>bed_type</th>\n",
       "      <th>price</th>\n",
       "      <th>guests_included</th>\n",
       "      <th>minimum_nights</th>\n",
       "      <th>maximum_nights</th>\n",
       "      <th>review_scores_rating</th>\n",
       "      <th>review_scores_accuracy</th>\n",
       "      <th>review_scores_cleanliness</th>\n",
       "      <th>review_scores_checkin</th>\n",
       "      <th>review_scores_communication</th>\n",
       "      <th>review_scores_location</th>\n",
       "      <th>review_scores_value</th>\n",
       "    </tr>\n",
       "  </thead>\n",
       "  <tbody>\n",
       "    <tr>\n",
       "      <th>0</th>\n",
       "      <td>4402514</td>\n",
       "      <td>Ara</td>\n",
       "      <td>2014-10-18</td>\n",
       "      <td>f</td>\n",
       "      <td>1.0</td>\n",
       "      <td>t</td>\n",
       "      <td>f</td>\n",
       "      <td>52.320754</td>\n",
       "      <td>4.975741</td>\n",
       "      <td>Apartment</td>\n",
       "      <td>Entire home/apt</td>\n",
       "      <td>1.0</td>\n",
       "      <td>2.0</td>\n",
       "      <td>2.0</td>\n",
       "      <td>Real Bed</td>\n",
       "      <td>$80.00</td>\n",
       "      <td>1</td>\n",
       "      <td>30</td>\n",
       "      <td>90</td>\n",
       "      <td>94.0</td>\n",
       "      <td>10.0</td>\n",
       "      <td>10.0</td>\n",
       "      <td>10.0</td>\n",
       "      <td>10.0</td>\n",
       "      <td>8.0</td>\n",
       "      <td>10.0</td>\n",
       "    </tr>\n",
       "    <tr>\n",
       "      <th>1</th>\n",
       "      <td>21173167</td>\n",
       "      <td>Laura</td>\n",
       "      <td>2014-08-26</td>\n",
       "      <td>t</td>\n",
       "      <td>5.0</td>\n",
       "      <td>t</td>\n",
       "      <td>t</td>\n",
       "      <td>52.320224</td>\n",
       "      <td>4.960554</td>\n",
       "      <td>House</td>\n",
       "      <td>Entire home/apt</td>\n",
       "      <td>1.5</td>\n",
       "      <td>5.0</td>\n",
       "      <td>10.0</td>\n",
       "      <td>Real Bed</td>\n",
       "      <td>$236.00</td>\n",
       "      <td>7</td>\n",
       "      <td>5</td>\n",
       "      <td>1125</td>\n",
       "      <td>100.0</td>\n",
       "      <td>10.0</td>\n",
       "      <td>10.0</td>\n",
       "      <td>10.0</td>\n",
       "      <td>10.0</td>\n",
       "      <td>9.0</td>\n",
       "      <td>10.0</td>\n",
       "    </tr>\n",
       "    <tr>\n",
       "      <th>2</th>\n",
       "      <td>24236405</td>\n",
       "      <td>Maria</td>\n",
       "      <td>2016-08-19</td>\n",
       "      <td>f</td>\n",
       "      <td>11.0</td>\n",
       "      <td>t</td>\n",
       "      <td>f</td>\n",
       "      <td>52.323945</td>\n",
       "      <td>4.961364</td>\n",
       "      <td>Apartment</td>\n",
       "      <td>Entire home/apt</td>\n",
       "      <td>1.0</td>\n",
       "      <td>1.0</td>\n",
       "      <td>3.0</td>\n",
       "      <td>Real Bed</td>\n",
       "      <td>$120.00</td>\n",
       "      <td>1</td>\n",
       "      <td>1</td>\n",
       "      <td>1125</td>\n",
       "      <td>NaN</td>\n",
       "      <td>NaN</td>\n",
       "      <td>NaN</td>\n",
       "      <td>NaN</td>\n",
       "      <td>NaN</td>\n",
       "      <td>NaN</td>\n",
       "      <td>NaN</td>\n",
       "    </tr>\n",
       "  </tbody>\n",
       "</table>\n",
       "</div>"
      ],
      "text/plain": [
       "         id host_name  host_since host_is_superhost  \\\n",
       "0   4402514       Ara  2014-10-18                 f   \n",
       "1  21173167     Laura  2014-08-26                 t   \n",
       "2  24236405     Maria  2016-08-19                 f   \n",
       "\n",
       "   host_total_listings_count host_has_profile_pic host_identity_verified  \\\n",
       "0                        1.0                    t                      f   \n",
       "1                        5.0                    t                      t   \n",
       "2                       11.0                    t                      f   \n",
       "\n",
       "    latitude  longitude property_type        room_type  bathrooms  bedrooms  \\\n",
       "0  52.320754   4.975741     Apartment  Entire home/apt        1.0       2.0   \n",
       "1  52.320224   4.960554         House  Entire home/apt        1.5       5.0   \n",
       "2  52.323945   4.961364     Apartment  Entire home/apt        1.0       1.0   \n",
       "\n",
       "   beds  bed_type    price  guests_included  minimum_nights  maximum_nights  \\\n",
       "0   2.0  Real Bed   $80.00                1              30              90   \n",
       "1  10.0  Real Bed  $236.00                7               5            1125   \n",
       "2   3.0  Real Bed  $120.00                1               1            1125   \n",
       "\n",
       "   review_scores_rating  review_scores_accuracy  review_scores_cleanliness  \\\n",
       "0                  94.0                    10.0                       10.0   \n",
       "1                 100.0                    10.0                       10.0   \n",
       "2                   NaN                     NaN                        NaN   \n",
       "\n",
       "   review_scores_checkin  review_scores_communication  review_scores_location  \\\n",
       "0                   10.0                         10.0                     8.0   \n",
       "1                   10.0                         10.0                     9.0   \n",
       "2                    NaN                          NaN                     NaN   \n",
       "\n",
       "   review_scores_value  \n",
       "0                 10.0  \n",
       "1                 10.0  \n",
       "2                  NaN  "
      ]
     },
     "execution_count": 117,
     "metadata": {},
     "output_type": "execute_result"
    }
   ],
   "source": [
    "listingsList = pd.read_csv('listings.csv')\n",
    "# keeping is simpler than dropping since we have a lot of useless features\n",
    "listingsList = listingsList[['id','host_name','host_since',\n",
    "                             'host_is_superhost','host_total_listings_count','host_has_profile_pic',\n",
    "                             'host_identity_verified','latitude','longitude',\n",
    "                             'property_type','room_type','bathrooms','bedrooms','beds','bed_type',\n",
    "                             'price','guests_included','minimum_nights',\n",
    "                             'maximum_nights','review_scores_rating','review_scores_accuracy',\n",
    "                             'review_scores_cleanliness','review_scores_checkin',\n",
    "                             'review_scores_communication','review_scores_location','review_scores_value']]\n",
    "listingsList.head(3)"
   ]
  },
  {
   "cell_type": "markdown",
   "metadata": {},
   "source": [
    "### Step 2.2\n",
    "Now that we have our data we need to arrange a few things"
   ]
  },
  {
   "cell_type": "code",
   "execution_count": 118,
   "metadata": {},
   "outputs": [
    {
     "data": {
      "text/html": [
       "<div>\n",
       "<style scoped>\n",
       "    .dataframe tbody tr th:only-of-type {\n",
       "        vertical-align: middle;\n",
       "    }\n",
       "\n",
       "    .dataframe tbody tr th {\n",
       "        vertical-align: top;\n",
       "    }\n",
       "\n",
       "    .dataframe thead th {\n",
       "        text-align: right;\n",
       "    }\n",
       "</style>\n",
       "<table border=\"1\" class=\"dataframe\">\n",
       "  <thead>\n",
       "    <tr style=\"text-align: right;\">\n",
       "      <th></th>\n",
       "      <th>id</th>\n",
       "      <th>host_name</th>\n",
       "      <th>host_since</th>\n",
       "      <th>host_is_superhost</th>\n",
       "      <th>host_total_listings_count</th>\n",
       "      <th>host_has_profile_pic</th>\n",
       "      <th>host_identity_verified</th>\n",
       "      <th>latitude</th>\n",
       "      <th>longitude</th>\n",
       "      <th>property_type</th>\n",
       "      <th>room_type</th>\n",
       "      <th>bathrooms</th>\n",
       "      <th>bedrooms</th>\n",
       "      <th>beds</th>\n",
       "      <th>bed_type</th>\n",
       "      <th>price</th>\n",
       "      <th>guests_included</th>\n",
       "      <th>minimum_nights</th>\n",
       "      <th>maximum_nights</th>\n",
       "      <th>review_scores_rating</th>\n",
       "      <th>review_scores_accuracy</th>\n",
       "      <th>review_scores_cleanliness</th>\n",
       "      <th>review_scores_checkin</th>\n",
       "      <th>review_scores_communication</th>\n",
       "      <th>review_scores_location</th>\n",
       "      <th>review_scores_value</th>\n",
       "    </tr>\n",
       "  </thead>\n",
       "  <tbody>\n",
       "    <tr>\n",
       "      <th>0</th>\n",
       "      <td>4402514</td>\n",
       "      <td>Ara</td>\n",
       "      <td>2014-10-18</td>\n",
       "      <td>False</td>\n",
       "      <td>1.0</td>\n",
       "      <td>True</td>\n",
       "      <td>False</td>\n",
       "      <td>52.320754</td>\n",
       "      <td>4.975741</td>\n",
       "      <td>Apartment</td>\n",
       "      <td>Entire</td>\n",
       "      <td>1.0</td>\n",
       "      <td>2.0</td>\n",
       "      <td>2.0</td>\n",
       "      <td>Bed</td>\n",
       "      <td>80.0</td>\n",
       "      <td>1</td>\n",
       "      <td>30</td>\n",
       "      <td>90</td>\n",
       "      <td>94.0</td>\n",
       "      <td>10.0</td>\n",
       "      <td>10.0</td>\n",
       "      <td>10.0</td>\n",
       "      <td>10.0</td>\n",
       "      <td>8.0</td>\n",
       "      <td>10.0</td>\n",
       "    </tr>\n",
       "    <tr>\n",
       "      <th>1</th>\n",
       "      <td>21173167</td>\n",
       "      <td>Laura</td>\n",
       "      <td>2014-08-26</td>\n",
       "      <td>True</td>\n",
       "      <td>5.0</td>\n",
       "      <td>True</td>\n",
       "      <td>True</td>\n",
       "      <td>52.320224</td>\n",
       "      <td>4.960554</td>\n",
       "      <td>House</td>\n",
       "      <td>Entire</td>\n",
       "      <td>1.5</td>\n",
       "      <td>5.0</td>\n",
       "      <td>10.0</td>\n",
       "      <td>Bed</td>\n",
       "      <td>236.0</td>\n",
       "      <td>7</td>\n",
       "      <td>5</td>\n",
       "      <td>1125</td>\n",
       "      <td>100.0</td>\n",
       "      <td>10.0</td>\n",
       "      <td>10.0</td>\n",
       "      <td>10.0</td>\n",
       "      <td>10.0</td>\n",
       "      <td>9.0</td>\n",
       "      <td>10.0</td>\n",
       "    </tr>\n",
       "    <tr>\n",
       "      <th>2</th>\n",
       "      <td>24236405</td>\n",
       "      <td>Maria</td>\n",
       "      <td>2016-08-19</td>\n",
       "      <td>False</td>\n",
       "      <td>11.0</td>\n",
       "      <td>True</td>\n",
       "      <td>False</td>\n",
       "      <td>52.323945</td>\n",
       "      <td>4.961364</td>\n",
       "      <td>Apartment</td>\n",
       "      <td>Entire</td>\n",
       "      <td>1.0</td>\n",
       "      <td>1.0</td>\n",
       "      <td>3.0</td>\n",
       "      <td>Bed</td>\n",
       "      <td>120.0</td>\n",
       "      <td>1</td>\n",
       "      <td>1</td>\n",
       "      <td>1125</td>\n",
       "      <td>NaN</td>\n",
       "      <td>NaN</td>\n",
       "      <td>NaN</td>\n",
       "      <td>NaN</td>\n",
       "      <td>NaN</td>\n",
       "      <td>NaN</td>\n",
       "      <td>NaN</td>\n",
       "    </tr>\n",
       "  </tbody>\n",
       "</table>\n",
       "</div>"
      ],
      "text/plain": [
       "         id host_name  host_since host_is_superhost  \\\n",
       "0   4402514       Ara  2014-10-18             False   \n",
       "1  21173167     Laura  2014-08-26              True   \n",
       "2  24236405     Maria  2016-08-19             False   \n",
       "\n",
       "   host_total_listings_count host_has_profile_pic host_identity_verified  \\\n",
       "0                        1.0                 True                  False   \n",
       "1                        5.0                 True                   True   \n",
       "2                       11.0                 True                  False   \n",
       "\n",
       "    latitude  longitude property_type room_type  bathrooms  bedrooms  beds  \\\n",
       "0  52.320754   4.975741     Apartment    Entire        1.0       2.0   2.0   \n",
       "1  52.320224   4.960554         House    Entire        1.5       5.0  10.0   \n",
       "2  52.323945   4.961364     Apartment    Entire        1.0       1.0   3.0   \n",
       "\n",
       "  bed_type  price  guests_included  minimum_nights  maximum_nights  \\\n",
       "0      Bed   80.0                1              30              90   \n",
       "1      Bed  236.0                7               5            1125   \n",
       "2      Bed  120.0                1               1            1125   \n",
       "\n",
       "   review_scores_rating  review_scores_accuracy  review_scores_cleanliness  \\\n",
       "0                  94.0                    10.0                       10.0   \n",
       "1                 100.0                    10.0                       10.0   \n",
       "2                   NaN                     NaN                        NaN   \n",
       "\n",
       "   review_scores_checkin  review_scores_communication  review_scores_location  \\\n",
       "0                   10.0                         10.0                     8.0   \n",
       "1                   10.0                         10.0                     9.0   \n",
       "2                    NaN                          NaN                     NaN   \n",
       "\n",
       "   review_scores_value  \n",
       "0                 10.0  \n",
       "1                 10.0  \n",
       "2                  NaN  "
      ]
     },
     "execution_count": 118,
     "metadata": {},
     "output_type": "execute_result"
    }
   ],
   "source": [
    "# handling boolean values\n",
    "listingsList['host_is_superhost'] = listingsList['host_is_superhost'].replace({\"t\": True, \"f\": False})\n",
    "listingsList['host_has_profile_pic'] = listingsList['host_has_profile_pic'].replace({\"t\": True, \"f\": False})\n",
    "listingsList['host_identity_verified'] = listingsList['host_identity_verified'].replace({\"t\": True, \"f\": False})\n",
    "\n",
    "# simplifying some values\n",
    "listingsList['room_type'] = listingsList['room_type'].replace({\"Entire home/apt\": \"Entire\", \"Private room\": \"Room\", \"Shared room\": \"Shared\"})\n",
    "listingsList['bed_type'] = listingsList['bed_type'].replace({\"Real Bed\": \"Bed\", \"Pull-out Sofa\": \"Sofa\"})\n",
    "\n",
    "# converting price to number\n",
    "listingsList['price'] = listingsList['price'].str[1:]\n",
    "listingsList['price'] = listingsList['price'].str.replace(',', '')\n",
    "listingsList['price'] = listingsList['price'].astype(float)\n",
    "\n",
    "listingsList.head(3)"
   ]
  },
  {
   "cell_type": "markdown",
   "metadata": {},
   "source": [
    "### Step 2.3\n",
    "Let's now deal with the null values"
   ]
  },
  {
   "cell_type": "code",
   "execution_count": 119,
   "metadata": {
    "scrolled": true
   },
   "outputs": [
    {
     "data": {
      "text/plain": [
       "id                                0\n",
       "host_name                        21\n",
       "host_since                       21\n",
       "host_is_superhost                21\n",
       "host_total_listings_count        21\n",
       "host_has_profile_pic             21\n",
       "host_identity_verified           21\n",
       "latitude                          0\n",
       "longitude                         0\n",
       "property_type                     0\n",
       "room_type                         0\n",
       "bathrooms                        10\n",
       "bedrooms                          7\n",
       "beds                              7\n",
       "bed_type                          0\n",
       "price                             0\n",
       "guests_included                   0\n",
       "minimum_nights                    0\n",
       "maximum_nights                    0\n",
       "review_scores_rating           2634\n",
       "review_scores_accuracy         2651\n",
       "review_scores_cleanliness      2647\n",
       "review_scores_checkin          2671\n",
       "review_scores_communication    2651\n",
       "review_scores_location         2670\n",
       "review_scores_value            2672\n",
       "dtype: int64"
      ]
     },
     "execution_count": 119,
     "metadata": {},
     "output_type": "execute_result"
    }
   ],
   "source": [
    "listingsList.isnull().sum()"
   ]
  },
  {
   "cell_type": "code",
   "execution_count": 120,
   "metadata": {},
   "outputs": [],
   "source": [
    "# replacing the reviews null scores by the means\n",
    "listingsList[\"review_scores_rating\"].fillna(listingsList[\"review_scores_rating\"].mean(skipna=True), inplace=True)\n",
    "listingsList[\"review_scores_accuracy\"].fillna(listingsList[\"review_scores_accuracy\"].mean(skipna=True), inplace=True)\n",
    "listingsList[\"review_scores_cleanliness\"].fillna(listingsList[\"review_scores_cleanliness\"].mean(skipna=True), inplace=True)\n",
    "listingsList[\"review_scores_checkin\"].fillna(listingsList[\"review_scores_checkin\"].mean(skipna=True), inplace=True)\n",
    "listingsList[\"review_scores_communication\"].fillna(listingsList[\"review_scores_communication\"].mean(skipna=True), inplace=True)\n",
    "listingsList[\"review_scores_location\"].fillna(listingsList[\"review_scores_location\"].mean(skipna=True), inplace=True)\n",
    "listingsList[\"review_scores_value\"].fillna(listingsList[\"review_scores_value\"].mean(skipna=True), inplace=True)\n",
    "\n",
    "# dropping the lines with no informations on the host, only 21 as they are the same\n",
    "listingsList = listingsList.drop(listingsList.loc[listingsList['host_name'].isnull()].index)\n"
   ]
  },
  {
   "cell_type": "code",
   "execution_count": 121,
   "metadata": {},
   "outputs": [
    {
     "data": {
      "image/png": "[encoded data removed]",
      "text/plain": [
       "<Figure size 432x288 with 1 Axes>"
      ]
     },
     "metadata": {
      "needs_background": "light"
     },
     "output_type": "display_data"
    }
   ],
   "source": [
    "# replacing the bathrooms null values by the most common value\n",
    "sns.countplot(x='bathrooms',data=listingsList)\n",
    "listingsList[\"bathrooms\"].fillna(1.0, inplace=True)"
   ]
  },
  {
   "cell_type": "code",
   "execution_count": 122,
   "metadata": {},
   "outputs": [
    {
     "data": {
      "image/png": "[encoded data removed]",
      "text/plain": [
       "<Figure size 432x288 with 1 Axes>"
      ]
     },
     "metadata": {
      "needs_background": "light"
     },
     "output_type": "display_data"
    }
   ],
   "source": [
    "# replacing the beds null values by the most common value\n",
    "sns.countplot(x='beds',data=listingsList)\n",
    "listingsList[\"beds\"].fillna(1.0, inplace=True)"
   ]
  },
  {
   "cell_type": "code",
   "execution_count": 123,
   "metadata": {},
   "outputs": [
    {
     "data": {
      "image/png": "[encoded data removed]",
      "text/plain": [
       "<Figure size 432x288 with 1 Axes>"
      ]
     },
     "metadata": {
      "needs_background": "light"
     },
     "output_type": "display_data"
    }
   ],
   "source": [
    "# replacing the bedrooms null values by the most common value\n",
    "sns.countplot(x='bedrooms',data=listingsList)\n",
    "listingsList[\"bedrooms\"].fillna(1.0, inplace=True)"
   ]
  },
  {
   "cell_type": "code",
   "execution_count": 124,
   "metadata": {},
   "outputs": [
    {
     "data": {
      "text/plain": [
       "id                             0\n",
       "host_name                      0\n",
       "host_since                     0\n",
       "host_is_superhost              0\n",
       "host_total_listings_count      0\n",
       "host_has_profile_pic           0\n",
       "host_identity_verified         0\n",
       "latitude                       0\n",
       "longitude                      0\n",
       "property_type                  0\n",
       "room_type                      0\n",
       "bathrooms                      0\n",
       "bedrooms                       0\n",
       "beds                           0\n",
       "bed_type                       0\n",
       "price                          0\n",
       "guests_included                0\n",
       "minimum_nights                 0\n",
       "maximum_nights                 0\n",
       "review_scores_rating           0\n",
       "review_scores_accuracy         0\n",
       "review_scores_cleanliness      0\n",
       "review_scores_checkin          0\n",
       "review_scores_communication    0\n",
       "review_scores_location         0\n",
       "review_scores_value            0\n",
       "dtype: int64"
      ]
     },
     "execution_count": 124,
     "metadata": {},
     "output_type": "execute_result"
    }
   ],
   "source": [
    "listingsList.isnull().sum()"
   ]
  },
  {
   "cell_type": "markdown",
   "metadata": {},
   "source": [
    "### Step 3.3\n",
    "Using <a href=\"https://scikit-learn.org/stable/modules/generated/sklearn.metrics.mean_squared_error.html\">sklearn.metrics.mean_squared_error</a> to\n",
    "evaluate the predicted target values by computing \"Root Mean Squred Error (RMSE)\":\n",
    "<ol>\n",
    "   <li>Import mean_squared_error from sklearn.metrics module.</li>\n",
    "   <li>Compute the mean squared error (MSE) by using mean_squared_error() function on the validation target data (i.e. Y_valid) and the predicted target values.</li>\n",
    "   <li>Compute the RMSE by otaining the square-root of the MSE using <a href=\"https://docs.scipy.org/doc/numpy/reference/generated/numpy.sqrt.html\">numpy.sqrt()</a> function.</li>\n",
    "   <li>Print the RMSE</li>\n",
    "</ol>"
   ]
  },
  {
   "cell_type": "code",
   "execution_count": null,
   "metadata": {},
   "outputs": [],
   "source": [
    "# Put your statements here\n",
    "\n"
   ]
  },
  {
   "cell_type": "markdown",
   "metadata": {},
   "source": [
    "### Step 3.4\n",
    "Explore the validation target values vs the predicted target values using scatter function \n",
    "(<a href=\"https://matplotlib.org/api/_as_gen/matplotlib.pyplot.scatter.html\">matplotlib.pyplot.scatter</a>) of matplotlib library."
   ]
  },
  {
   "cell_type": "code",
   "execution_count": null,
   "metadata": {},
   "outputs": [],
   "source": [
    "# Put your statements here\n",
    "\n"
   ]
  },
  {
   "cell_type": "markdown",
   "metadata": {},
   "source": [
    "<span style=\"color:red\">What is your observation?</span> (Write your observation here.)\n"
   ]
  },
  {
   "cell_type": "markdown",
   "metadata": {},
   "source": [
    "## Step 4: Training the Decision Tree model using  Sklearn (10 points)"
   ]
  },
  {
   "cell_type": "markdown",
   "metadata": {},
   "source": [
    "Using the <a href=\"https://scikit-learn.org/stable/modules/generated/sklearn.tree.DecisionTreeRegressor.html\">sklearn.tree.DecisionTreeRegressor</a> to build a Decision Tree model for Regression Problem.\n",
    "\n",
    "(Reference:<a href=\"https://scikit-learn.org/stable/modules/tree.html#tree\">Decision Tree User Guide from Scikit-learn</a>)\n",
    "\n",
    "### Step 4.1 \n",
    "Import the DecisionTreeRegressor from sklearn.tree."
   ]
  },
  {
   "cell_type": "code",
   "execution_count": null,
   "metadata": {
    "collapsed": true
   },
   "outputs": [],
   "source": [
    "# Put your statements here\n",
    "\n"
   ]
  },
  {
   "cell_type": "markdown",
   "metadata": {},
   "source": [
    "### Step 4.2 \n",
    "Build the Decision Tree model by:\n",
    "<ol>\n",
    "<li>Initialize a Decision Tree model by DecisionTreeRegressor() function.</li>\n",
    "<li>Call fit() function to train the model using the training feature data (i.e. X_train).</li>\n",
    "<li>Predict the target values for the validation feature data (i.e. X_valid) using the predict() function.\n",
    "</ol>"
   ]
  },
  {
   "cell_type": "code",
   "execution_count": null,
   "metadata": {
    "collapsed": true
   },
   "outputs": [],
   "source": [
    "# Put your statements here\n",
    "\n"
   ]
  },
  {
   "cell_type": "markdown",
   "metadata": {},
   "source": [
    "### Step 4.3\n",
    "Using <a href=\"https://scikit-learn.org/stable/modules/generated/sklearn.metrics.mean_squared_error.html\">sklearn.metrics.mean_squared_error</a> to\n",
    "evaluate the predicted target values by computing \"Root Mean Squred Error (RMSE)\":\n",
    "<ol>\n",
    "   <li>Import mean_squared_error from sklearn.metrics module,</li>\n",
    "   <li>Compute the mean squared error (MSE) by using mean_squared_error() function on the validation target data (i.e. Y_valid) and the predicted target values.</li>\n",
    "   <li>Compute the RMSE by otaining the square-root of the MSE using <a href=\"https://docs.scipy.org/doc/numpy/reference/generated/numpy.sqrt.html\">numpy.sqrt()</a> function.</li>\n",
    "   <li>Print the RMSE.</li>\n",
    "</ol>"
   ]
  },
  {
   "cell_type": "code",
   "execution_count": null,
   "metadata": {},
   "outputs": [],
   "source": [
    "# Put your statements here\n",
    "\n"
   ]
  },
  {
   "cell_type": "markdown",
   "metadata": {},
   "source": [
    "## Step 5 -- Standardization and Rescaling (10 points)\n",
    "\n",
    "Rescaling and Standardization of datasets is a common requirement for many machine learning estimators implemented in scikit-learn.\n",
    "They might behave badly if the individual features do not more or less look like standard normally distributed data: Gaussian with zero mean and unit variance.\n",
    "\n",
    "(Reference: <a href=\"https://scikit-learn.org/stable/modules/preprocessing.html#standardization-or-mean-removal-and-variance-scaling\">here</a>)"
   ]
  },
  {
   "cell_type": "markdown",
   "metadata": {},
   "source": [
    "Performs the rescaling by:\n",
    "<ol>\n",
    "<li>Import the MinMaxScaler from sklearn.preprocessing module.</li>\n",
    "<li>Initializing a MinMaxScaler by using <a href=\"https://scikit-learn.org/stable/modules/generated/sklearn.preprocessing.MinMaxScaler.html\">sklearn.preprocessing.MinMaxScaler</a> function, which transforms the numerical features by scaling each feature to a given range of [0, 1], i.e. between zero to one.</li>\n",
    "<li>Compute the minimum and maximum to be used for later scalingby using <a href=\"https://scikit-learn.org/stable/modules/generated/sklearn.preprocessing.MinMaxScaler.html#sklearn.preprocessing.MinMaxScaler.fit\">sklearn.preprocessing.MinMaxScaler.fit()</a> function.</li>\n",
    "<li>Transform the data using <a href=\"https://scikit-learn.org/stable/modules/generated/sklearn.preprocessing.MinMaxScaler.html#sklearn.preprocessing.MinMaxScaler.transform\">sklearn.preprocessing.MinMaxScaler.transform()</a> function.</li>\n",
    "<li>The tranformed data is an numpy array. Convert it into a pandas.DataFrame using\n",
    "pandas.DataFrame() function with pandas.DataFrame.columns.</li>\n",
    "<li>Using the pandas.DataFrame.head() function to preview the data.</li>\n",
    "</ol>"
   ]
  },
  {
   "cell_type": "code",
   "execution_count": null,
   "metadata": {
    "collapsed": true
   },
   "outputs": [],
   "source": [
    "# Put your statements here\n",
    "\n"
   ]
  },
  {
   "cell_type": "markdown",
   "metadata": {},
   "source": [
    "Review the first 10 rows of the training feature set using pandas.DataFrame.head()."
   ]
  },
  {
   "cell_type": "code",
   "execution_count": null,
   "metadata": {},
   "outputs": [],
   "source": [
    "# Put your statement here\n",
    "\n"
   ]
  },
  {
   "cell_type": "markdown",
   "metadata": {},
   "source": [
    "Review the first 10 rows of the standardized validation feature set using pandas.DataFrame.head()."
   ]
  },
  {
   "cell_type": "code",
   "execution_count": null,
   "metadata": {},
   "outputs": [],
   "source": [
    "# Put your statement here\n",
    "\n"
   ]
  },
  {
   "cell_type": "markdown",
   "metadata": {},
   "source": [
    "## Step 6: Training the Neural Network model using Keras (15 points)\n",
    "\n",
    "### Step 6.1\n",
    "Import the following libraries using import statements.\n",
    "<ul>\n",
    "    <li>keras (for deep learning) (Reference: <url>https://keras.io/</url>)\n",
    "        <ul>\n",
    "            <li>Sequential from keras.models</li>\n",
    "            <li>Dense from keras.layers</li>\n",
    "            <li>ModelCheckpoint from keras.callbacks</li>\n",
    "        </ul>\n",
    "    </li>    \n",
    "</ul>\n",
    "Note: Run a code cell by clicking on the cell and using the keyboard shortcut &lt;Shift&gt; + &lt;Enter&gt;.\n",
    "<br />\n",
    "Note: Tensorflow and Keras have to be installed first, see <strong>Step 0.1</strong>"
   ]
  },
  {
   "cell_type": "code",
   "execution_count": null,
   "metadata": {
    "collapsed": true
   },
   "outputs": [],
   "source": [
    "# Put your statements here\n",
    "\n"
   ]
  },
  {
   "cell_type": "markdown",
   "metadata": {},
   "source": [
    "### Step 6.2\n",
    "- Build a neural network to learn from the given training set - trainData.\n",
    "(Reference: <a href=\"https://faroit.github.io/keras-docs/1.0.1/getting-started/sequential-model-guide/\">Here</a>)\n",
    "<ol>\n",
    "  <li>Initalizing a neural network using Sequential() function and name the returned object NN.</li>\n",
    "  <li>Adding the input layer and the hidden layer using add function of NN and Dense function.<br/>\n",
    "      Parameters of Dense function:\n",
    "      <ul>\n",
    "          <li>Set output_dim to 150: output_dim is the number of nodes we want to add to this layer.</li>\n",
    "          <li>kernel_initializer to 'normal': kernel_initializer is the initializer for the kernel weights matrix.</li>\n",
    "          <li>activation to 'relu': activation is the activation function of the node.</li>\n",
    "          <li>input_dim to the number of features: input_dim refers to the number of inputs, which is only needed for the first layer.<br />\n",
    "          You may use the <a href=\"https://pandas.pydata.org/pandas-docs/stable/reference/api/pandas.DataFrame.shape.html\">pandas.DataFrame.shape</a> function.\n",
    "          </li>\n",
    "      </ul>\n",
    "  </li>\n",
    "  <li>Adding the output layer using add function of NN and Dense function.<br/>\n",
    "      Parameters of Dense function:\n",
    "      <ul>\n",
    "          <li>Set output_dim to 1: output_dim is the number of nodes we want to add to this layer.</li>\n",
    "          <li>init to 'relu': init is the initialization of stochastic gradient decent.</li>\n",
    "          <li>activation to 'normal': activation is the activation function of the node.</li>\n",
    "      </ul>\n",
    "  </li>\n",
    "  <li>Prints a summary representation of our model by calling summary function of NN.</li>\n",
    "</ol>"
   ]
  },
  {
   "cell_type": "code",
   "execution_count": null,
   "metadata": {},
   "outputs": [],
   "source": [
    "# Put your statements here\n",
    "\n"
   ]
  },
  {
   "cell_type": "markdown",
   "metadata": {},
   "source": [
    "### Step 6.3\n",
    "- Compile the neural network and start training\n",
    "<ol>\n",
    "  <li>Call <a href=\"https://keras.io/models/sequential/#compile\">compile()</a> function of NN to compile the neural network<br/>\n",
    "      Parameters of compile function:\n",
    "      <ul>\n",
    "          <li>loss to 'mean_squared_error': loss is a stochastic gradient decent depends on loss.</li>\n",
    "          <li>optimizer to 'Adam': optimizer is the algorithm that we want to use to find optimal set of weights. For details about 'Adam', please visit <a href=\"https://arxiv.org/abs/1412.6980v8\">here</a>.              \n",
    "          </li>\n",
    "          <li>metrics to ['mean_squared_error']: metrics is the metric(s) that we want to use to improve the performance of our neural network. In our case, accuracy is the metrics.</li>\n",
    "      </ul>\n",
    "  </li>\n",
    "  <li>Call <a href=\"https://keras.io/models/sequential/#fit\">fit()</a> function of NN to train the model on training data<br/>\n",
    "      Parameters of fit function:\n",
    "      <ul>\n",
    "          <li>Set x to X: x is the numpy array of training feature data.</li>\n",
    "          <li>Set y to Y: y is the numpy array of training target data.</li>\n",
    "          <li>Set batch_size to 32: batch_size is the number of samples per gradient update.</li>\n",
    "          <li>Set epochs to 500: epochs is the number of epochs to train the model.</li>\n",
    "      </ul>\n",
    "  </li>\n",
    "</ol>"
   ]
  },
  {
   "cell_type": "code",
   "execution_count": null,
   "metadata": {},
   "outputs": [],
   "source": [
    "# Put your statements here\n",
    "\n"
   ]
  },
  {
   "cell_type": "markdown",
   "metadata": {},
   "source": [
    "### Step 6.4 \n",
    "Evaluate the model with Validation dataset\n",
    "\n",
    "<ol>\n",
    "<li>Evaluate the model with the validation data using the <a href=\"https://keras.io/models/sequential/#evaluate\">evaluate()</a> function.\n",
    "The evaluate function returns the loss value and metrics values for the model in test mode.\n",
    "</li>\n",
    "<li>Compute the RMSE by otaining the square-root of the MSE using <a href=\"https://docs.scipy.org/doc/numpy/reference/generated/numpy.sqrt.html\">numpy.sqrt()</a> function.</li>\n",
    "<li>Print the RMSE.</li>\n",
    "</ol>"
   ]
  },
  {
   "cell_type": "code",
   "execution_count": null,
   "metadata": {},
   "outputs": [],
   "source": [
    "# Put your statements here\n",
    "\n"
   ]
  },
  {
   "cell_type": "markdown",
   "metadata": {},
   "source": [
    "## Step 7: Predict the testing data (20 points)"
   ]
  },
  {
   "cell_type": "markdown",
   "metadata": {},
   "source": [
    "### Step 7.1  Load the testing data (house-test.csv)"
   ]
  },
  {
   "cell_type": "code",
   "execution_count": null,
   "metadata": {
    "collapsed": true
   },
   "outputs": [],
   "source": [
    "# Put your statement here\n",
    "\n"
   ]
  },
  {
   "cell_type": "markdown",
   "metadata": {},
   "source": [
    "### Step 7.2: Prepare the testing data\n",
    "\n",
    "Steps for preprocessing the testing data:\n",
    "<ol>\n",
    "<li>Exploring the features.</li>\n",
    "<li>Cleaning data: Handling missing values</li>\n",
    "<li><del>Creating new features and </del>dropping redundant features.</li>\n",
    "<li>Transforming data.</li>\n",
    "</ol>\n",
    "\n",
    "You may refer to Assignment 1 and also Step 1 above for reference.\n",
    "(You may add multiple cells below.)"
   ]
  },
  {
   "cell_type": "markdown",
   "metadata": {},
   "source": [
    "#### Step 7.2.1\n",
    "Evaluate the data quality & perform missing values assessment using isnull function (<a href=\"https://pandas.pydata.org/pandas-docs/stable/generated/pandas.isnull.html\">pandas.isnull</a>) and sum function (<a href=\"https://pandas.pydata.org/pandas-docs/stable/generated/pandas.DataFrame.sum.html\">pandas.DataFrame.sum</a>) of pandas library."
   ]
  },
  {
   "cell_type": "code",
   "execution_count": null,
   "metadata": {},
   "outputs": [],
   "source": [
    "# Put your statements here\n",
    "\n"
   ]
  },
  {
   "cell_type": "markdown",
   "metadata": {},
   "source": [
    "#### Step 7.2.2 Handling Not Really NA Values"
   ]
  },
  {
   "cell_type": "code",
   "execution_count": null,
   "metadata": {
    "collapsed": true
   },
   "outputs": [],
   "source": [
    "# Put your statements here\n",
    "\n"
   ]
  },
  {
   "cell_type": "markdown",
   "metadata": {},
   "source": [
    "#### Step 7.2.3 Use mean / median to impute the missing values of the features"
   ]
  },
  {
   "cell_type": "code",
   "execution_count": null,
   "metadata": {
    "collapsed": true
   },
   "outputs": [],
   "source": [
    "# Put your statements here\n",
    "\n"
   ]
  },
  {
   "cell_type": "markdown",
   "metadata": {},
   "source": [
    "#### Step 7.2.4 Use the most common values to impute the missing values of the features features"
   ]
  },
  {
   "cell_type": "code",
   "execution_count": null,
   "metadata": {
    "collapsed": true
   },
   "outputs": [],
   "source": [
    "# Put your statements here, you may add more code cells and markup cells if necessory\n",
    "\n"
   ]
  },
  {
   "cell_type": "markdown",
   "metadata": {},
   "source": [
    "#### Step 7.2.5: Drop a certain instance with missing value if necessary"
   ]
  },
  {
   "cell_type": "code",
   "execution_count": null,
   "metadata": {
    "collapsed": true
   },
   "outputs": [],
   "source": [
    "# Put your statements here\n",
    "\n"
   ]
  },
  {
   "cell_type": "markdown",
   "metadata": {},
   "source": [
    "#### Step 7.2.6: Drop certain features if necessary"
   ]
  },
  {
   "cell_type": "code",
   "execution_count": null,
   "metadata": {
    "collapsed": true
   },
   "outputs": [],
   "source": [
    "# Put your statements here\n",
    "\n"
   ]
  },
  {
   "cell_type": "markdown",
   "metadata": {},
   "source": [
    "#### Step 7.2.7: Change the type of certain feature(s) if necessary"
   ]
  },
  {
   "cell_type": "code",
   "execution_count": null,
   "metadata": {
    "collapsed": true
   },
   "outputs": [],
   "source": [
    "# Put your statements here\n",
    "\n"
   ]
  },
  {
   "cell_type": "markdown",
   "metadata": {},
   "source": [
    "#### Step 7.2.8: Normalize the numerical features"
   ]
  },
  {
   "cell_type": "code",
   "execution_count": null,
   "metadata": {
    "collapsed": true
   },
   "outputs": [],
   "source": [
    "# Put your statements here\n",
    "\n"
   ]
  },
  {
   "cell_type": "markdown",
   "metadata": {},
   "source": [
    "#### Step 7.2.9: Convert categorical features into dummy/indicator features\n",
    "Note: You may need to align with the training features data using <a href=\"https://pandas.pydata.org/pandas-docs/stable/reference/api/pandas.DataFrame.align.html\">pandas.DataFrame.align()</a> function.\n",
    "\n",
    "Review the converted testing data by using pandas.DataFrame.head() function."
   ]
  },
  {
   "cell_type": "code",
   "execution_count": null,
   "metadata": {},
   "outputs": [],
   "source": [
    "# Put your statements here\n",
    "\n"
   ]
  },
  {
   "cell_type": "markdown",
   "metadata": {},
   "source": [
    "#### Step 7.2.10 Any additional preprocessing steps needed?"
   ]
  },
  {
   "cell_type": "code",
   "execution_count": null,
   "metadata": {
    "collapsed": true
   },
   "outputs": [],
   "source": [
    "# Put your statements here\n",
    "\n"
   ]
  },
  {
   "cell_type": "markdown",
   "metadata": {},
   "source": [
    "### Step 7.3 Standardize/Rescale the testing data using the MinMaxScaler (see Step 5)"
   ]
  },
  {
   "cell_type": "code",
   "execution_count": null,
   "metadata": {},
   "outputs": [],
   "source": [
    "# Put your statements here\n",
    "\n"
   ]
  },
  {
   "cell_type": "markdown",
   "metadata": {},
   "source": [
    "### Step 7.4: Use the NN model or your best model to predict the results\n",
    "\n",
    "Predicting the housing price on the testing features data.\n",
    "<ol>\n",
    "    <li>Use predict function of NN to predict testData. The predictions will be in the range between 0 and 1.</li>\n",
    "    <li>If the predicted value is greater than 0.5, set it to 1, otherwise, set it to 0.\n",
    "    </li>\n",
    "    <li>Save the classification results to a CSV file: prediction-ann.csv. (for example, you may use the pandas.DataFrame.to_csv function)</li>\n",
    "</ol>"
   ]
  },
  {
   "cell_type": "code",
   "execution_count": null,
   "metadata": {
    "collapsed": true
   },
   "outputs": [],
   "source": [
    "# Put your statements here\n",
    "\n"
   ]
  },
  {
   "cell_type": "markdown",
   "metadata": {},
   "source": [
    "## Step 8: Explore K-fold cross validation (15 points)\n",
    "\n",
    "K-fold cross validation is often used to handle the situation of overfitting, i.e. a model that can make good predictions on the labels of the samples that it has seen but cannot make good predictitions on unseen data.\n",
    "\n",
    "It is performed by splitting the training dataset into k subsets.\n",
    "Then, models are trained by taking turns on all subsets except one which is held out, and the model performance is evaluated on the held out validation set.\n",
    "The process is repeated until all subsets are given an opportunity to be the held out validation set. \n",
    "The performance measure is then averaged across the performance on all models.\n",
    "\n",
    "Note: Cross validation is often not used for evaluating deep learning models because of the computational expense. "
   ]
  },
  {
   "cell_type": "markdown",
   "metadata": {},
   "source": [
    "Here is the reference on cross validation provided by scikit-learn:\n",
    "    <url>https://scikit-learn.org/stable/modules/cross_validation.html</url>"
   ]
  },
  {
   "cell_type": "markdown",
   "metadata": {},
   "source": [
    "### Step 8.1 \n",
    "Explore and implement the use of 5-fold cross validation with linear regression (Step 3).<br />\n",
    "Output the RMSE for each fold.<br/>\n",
    "Output the average RMSE."
   ]
  },
  {
   "cell_type": "code",
   "execution_count": null,
   "metadata": {
    "collapsed": true
   },
   "outputs": [],
   "source": [
    "# Put your statements here\n",
    "\n"
   ]
  },
  {
   "cell_type": "markdown",
   "metadata": {},
   "source": [
    "### Step 8.2 \n",
    "Explore and implement the use of 5-fold cross validation with decision tree regressor (Step 4). <br />\n",
    "Output the RMSE for each fold.<br/>\n",
    "Output the average RMSE."
   ]
  },
  {
   "cell_type": "code",
   "execution_count": null,
   "metadata": {
    "collapsed": true
   },
   "outputs": [],
   "source": [
    "# Put your statements here\n",
    "\n"
   ]
  },
  {
   "cell_type": "markdown",
   "metadata": {},
   "source": [
    "### Step 8.3 \n",
    "Explore and implement the use of 5-fold cross validation with Neural Network (Step 6).<br />\n",
    "Output the RMSE for each fold.<br/>\n",
    "Output the average RMSE."
   ]
  },
  {
   "cell_type": "code",
   "execution_count": null,
   "metadata": {
    "collapsed": true
   },
   "outputs": [],
   "source": [
    "# Put your statements here\n",
    "\n"
   ]
  },
  {
   "cell_type": "markdown",
   "metadata": {},
   "source": [
    "## Step 9 Build another model which out performs the above models (10 points)\n",
    "<ol>Notes:\n",
    "<li>The model should not be one of the 3 models implemented above.</li>\n",
    "<li>The model has to be evaluated using RMSE with 5-fold cross validation.</li>\n",
    "<li>The points you get in the step depends on your model's performance. It will be calculated by the following formula: <br/>\n",
    "<ul>\n",
    "<li>max{ 0, (Max_points_for_step_8) * (0.2 - Your_RMSE) / (0.2 - 0.02) }</li>\n",
    "</ul>\n",
    "</li>\n",
    "</ol>"
   ]
  },
  {
   "cell_type": "code",
   "execution_count": null,
   "metadata": {
    "collapsed": true
   },
   "outputs": [],
   "source": [
    "# Put your statements here\n",
    "\n"
   ]
  },
  {
   "cell_type": "markdown",
   "metadata": {},
   "source": [
    "## Step 10 Submission\n",
    "Submit your jupyter notebook (.ipynb) and the classification results (nn_predictions.csv) to Canvas"
   ]
  }
 ],
 "metadata": {
  "kernelspec": {
   "display_name": "Python 3",
   "language": "python",
   "name": "python3"
  },
  "language_info": {
   "codemirror_mode": {
    "name": "ipython",
    "version": 3
   },
   "file_extension": ".py",
   "mimetype": "text/x-python",
   "name": "python",
   "nbconvert_exporter": "python",
   "pygments_lexer": "ipython3",
   "version": "3.7.1"
  }
 },
 "nbformat": 4,
 "nbformat_minor": 2
}
